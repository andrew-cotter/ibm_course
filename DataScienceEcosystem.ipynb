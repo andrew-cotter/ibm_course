{
 "cells": [
  {
   "cell_type": "markdown",
   "id": "71afa020-ef68-4f2b-a46e-6b463ce0b2ab",
   "metadata": {},
   "source": [
    "# Data Science Tools and Ecosystem"
   ]
  },
  {
   "cell_type": "markdown",
   "id": "b4e2c3bf-952c-4e87-a023-d8bd08ad7d09",
   "metadata": {},
   "source": [
    "In this notebook, Data Science Tools and Ecosystem are summarized."
   ]
  },
  {
   "cell_type": "markdown",
   "id": "bc64c0ce-c53d-46fc-afdd-a028ddae7423",
   "metadata": {},
   "source": [
    "Some of the popular languages that Data Scientists use are:\n",
    "1. Python\n",
    "2. R\n",
    "3. SQL"
   ]
  },
  {
   "cell_type": "markdown",
   "id": "f44a23ff-7aa0-408a-ab98-6d647b05c9d7",
   "metadata": {},
   "source": [
    "Some of the commonly used libraries used by Data Scientists include:\n",
    "\n",
    "1. Pandas\n",
    "2. ggplot\n",
    "3. dplyr"
   ]
  },
  {
   "cell_type": "markdown",
   "id": "361d6447-4aac-4163-9cc7-25f38957bbd4",
   "metadata": {},
   "source": [
    "|Data Science Tools|\n",
    "|---|\n",
    "|Apache Spark|\n",
    "|R Studio|\n",
    "|Jupyter Lab|"
   ]
  },
  {
   "cell_type": "markdown",
   "id": "cdc3eb42-202c-47bb-8889-a092756cfa00",
   "metadata": {},
   "source": [
    "### Below are a few examples of evaluating arithmetic expressions in Python"
   ]
  },
  {
   "cell_type": "code",
   "execution_count": 2,
   "id": "e37e9716-5ed7-4665-b8ee-425015d18d3e",
   "metadata": {
    "tags": []
   },
   "outputs": [
    {
     "data": {
      "text/plain": [
       "17"
      ]
     },
     "execution_count": 2,
     "metadata": {},
     "output_type": "execute_result"
    }
   ],
   "source": [
    "# This a simple arithmetic expression to mutiply then add integers\n",
    "(3*4)+5"
   ]
  },
  {
   "cell_type": "code",
   "execution_count": 3,
   "id": "89248093-ccf8-4a54-9c9c-7e6fffb75d03",
   "metadata": {
    "tags": []
   },
   "outputs": [
    {
     "data": {
      "text/plain": [
       "3.3333333333333335"
      ]
     },
     "execution_count": 3,
     "metadata": {},
     "output_type": "execute_result"
    }
   ],
   "source": [
    "# This will convert 200 minutes to hours by diving by 60\n",
    "\n",
    "minutes = 200\n",
    "hours = minutes/60\n",
    "hours"
   ]
  },
  {
   "cell_type": "markdown",
   "id": "0ceb8b95-68e4-4d42-9b92-63d8b3c96b93",
   "metadata": {},
   "source": [
    "**Objectives:**\n",
    "\n",
    " - List popular languages for Data Science\n",
    " - List popular libraries for Data Science\n",
    " - Demonstrate simple arithmetic expressions in Python"
   ]
  },
  {
   "cell_type": "markdown",
   "id": "ee793751-4de4-4b48-9e5d-4b8fc0f5c3ec",
   "metadata": {},
   "source": [
    "## Author\n",
    "Andrew Cotter"
   ]
  }
 ],
 "metadata": {
  "kernelspec": {
   "display_name": "Python",
   "language": "python",
   "name": "conda-env-python-py"
  },
  "language_info": {
   "codemirror_mode": {
    "name": "ipython",
    "version": 3
   },
   "file_extension": ".py",
   "mimetype": "text/x-python",
   "name": "python",
   "nbconvert_exporter": "python",
   "pygments_lexer": "ipython3",
   "version": "3.7.12"
  }
 },
 "nbformat": 4,
 "nbformat_minor": 5
}
